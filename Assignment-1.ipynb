{
 "cells": [
  {
   "cell_type": "code",
   "execution_count": 2,
   "metadata": {},
   "outputs": [
    {
     "name": "stdout",
     "output_type": "stream",
     "text": [
      "Enter the first number: 20\n",
      "Enter the second number: 4\n",
      "Main Menu : \n",
      " 1.ADDITION \n",
      " 2.SUBSTRACTION \n",
      " 3.MULTIPLICATION \n",
      " 4.DIVISION\n",
      "Enter your choice: 3\n",
      "20 * 4 \n",
      " Pro= 80\n"
     ]
    }
   ],
   "source": [
    "x=int(input(\"Enter the first number: \"))\n",
    "y=int(input(\"Enter the second number: \"))\n",
    "\n",
    "print(\"Main Menu : \")\n",
    "print(\" 1.ADDITION \\n 2.SUBSTRACTION \\n 3.MULTIPLICATION \\n 4.DIVISION\")\n",
    "ch=int(input(\"Enter your choice: \"))\n",
    "\n",
    "if(ch==1):\n",
    "    res=x+y\n",
    "    print(x,\"+\",y,\"\\n Sum=\",res)\n",
    "    \n",
    "elif(ch==2):\n",
    "    res=x-y\n",
    "    print(x,\"-\",y,\"\\n Diff=\",res)\n",
    "    \n",
    "elif(ch==3):\n",
    "    res=x*y\n",
    "    print(x,\"*\",y,\"\\n Pro=\",res)\n",
    "    \n",
    "elif(ch==4):\n",
    "    if(x>=y):\n",
    "        res=x/y\n",
    "        print(x,\"/\",y,\"\\n Rem=\",res)\n",
    "    else:\n",
    "        res=y/x\n",
    "        print(y,\"/\",x,\"\\n Rem=\",res)\n",
    "        \n",
    "elif(ch>4):\n",
    "    print(\"INVALID CHOICE!\")\n",
    "\n",
    "    \n"
   ]
  },
  {
   "cell_type": "code",
   "execution_count": null,
   "metadata": {},
   "outputs": [],
   "source": []
  }
 ],
 "metadata": {
  "kernelspec": {
   "display_name": "Python 3",
   "language": "python",
   "name": "python3"
  },
  "language_info": {
   "codemirror_mode": {
    "name": "ipython",
    "version": 3
   },
   "file_extension": ".py",
   "mimetype": "text/x-python",
   "name": "python",
   "nbconvert_exporter": "python",
   "pygments_lexer": "ipython3",
   "version": "3.7.1"
  }
 },
 "nbformat": 4,
 "nbformat_minor": 2
}
