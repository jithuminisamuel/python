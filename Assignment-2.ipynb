{
 "cells": [
  {
   "cell_type": "code",
   "execution_count": 5,
   "metadata": {},
   "outputs": [
    {
     "name": "stdout",
     "output_type": "stream",
     "text": [
      "Enter the number8\n",
      "Result=  2\n",
      "The number 8 is not divisible by 3\n"
     ]
    }
   ],
   "source": [
    "x=int(input(\"Enter the number\"))\n",
    "if(x%3==0):\n",
    "    print(\"The number\",x,\"is divisble by 3\")\n",
    "else:\n",
    "    Result=x%3\n",
    "    print(\"Result= \",Result)\n",
    "    print(\"The number\",x,\"is not divisible by 3\")\n",
    "    "
   ]
  },
  {
   "cell_type": "code",
   "execution_count": 6,
   "metadata": {},
   "outputs": [],
   "source": [
    "covid19=['John from kanuur','Basheer from Thalasheri']"
   ]
  },
  {
   "cell_type": "code",
   "execution_count": 7,
   "metadata": {},
   "outputs": [],
   "source": [
    "covid19[0]='John from Thalasheri'\n",
    "covid19[1]='Basheer from Kannur'"
   ]
  },
  {
   "cell_type": "code",
   "execution_count": 8,
   "metadata": {},
   "outputs": [
    {
     "data": {
      "text/plain": [
       "['John from Thalasheri', 'Basheer from Kannur']"
      ]
     },
     "execution_count": 8,
     "metadata": {},
     "output_type": "execute_result"
    }
   ],
   "source": [
    "covid19"
   ]
  },
  {
   "cell_type": "code",
   "execution_count": 4,
   "metadata": {},
   "outputs": [
    {
     "name": "stdout",
     "output_type": "stream",
     "text": [
      "Main Menu : \n",
      " 1.ADDITION  2.SUBSTRACTION  3.MULTIPLICATION  4.DIVISION  5.Roots Of Quadratic Equation\n",
      "Enter your choice: 5\n",
      "Enter the first number: 1\n",
      "Enter the second number: 4\n",
      "Enter the third number: 4\n",
      "It has one real root\n",
      "Root=  -2.0\n"
     ]
    }
   ],
   "source": [
    "def add(x,y):\n",
    "    s=x+y\n",
    "    return s\n",
    "def sub(x,y):\n",
    "    diff=x-y\n",
    "    return diff\n",
    "def div(x,y):\n",
    "    rem=x/y\n",
    "    return rem\n",
    "def mul(x,y):\n",
    "    pro=x*y\n",
    "    return pro\n",
    "print(\"Main Menu : \")\n",
    "print(\" 1.ADDITION  2.SUBSTRACTION  3.MULTIPLICATION  4.DIVISION  5.Roots Of Quadratic Equation\")\n",
    "ch=int(input(\"Enter your choice: \"))\n",
    "x=int(input(\"Enter the first number: \"))\n",
    "y=int(input(\"Enter the second number: \"))\n",
    "\n",
    "if ch==1:\n",
    "    ans=add(x,y)\n",
    "    print(\"Sum= \",ans)\n",
    "\n",
    "elif ch==2:\n",
    "    diff=sub(x,y)\n",
    "    print(x,\"-\",y,\"=\",diff)\n",
    "\n",
    "elif ch==3:\n",
    "    pro=mul(x,y)\n",
    "    print(x,\"*\",y,\"=\",pro)\n",
    "\n",
    "elif ch==4:\n",
    "    rem=div(x/y)\n",
    "    print(x,\"/\",y,\"=\",pro)\n",
    "    \n",
    "elif ch==5:\n",
    "    z=int(input(\"Enter the third number: \"))\n",
    "    D=(y*y)-(4*x*z)\n",
    "    if D>0:\n",
    "        print (\"It has two roots\")\n",
    "        r1=-y+(sqrt(D)/(2*x))\n",
    "        r2=-y-(sqrt(D)/(2*x))\n",
    "        print(\"Root1=\",r1,\" \",\"Root2=\",r2)\n",
    "    elif D==0:\n",
    "        print(\"It has one real root\")\n",
    "        r=-y/(2*x)\n",
    "        print (\"Root= \",r)\n",
    "    else:\n",
    "        print(\"It has no real roots\")\n",
    "\n",
    "else:\n",
    "    print(\"Wrong chocie\")\n",
    "\n"
   ]
  },
  {
   "cell_type": "code",
   "execution_count": null,
   "metadata": {},
   "outputs": [],
   "source": [
    "def add(x,y):\n",
    "    s=x+y\n",
    "    return s\n",
    "def sub(x,y):\n",
    "    diff=x-y\n",
    "    return diff\n",
    "def div(x,y):\n",
    "    rem=x/y\n",
    "    return rem\n",
    "def mul(x,y):\n",
    "    pro=x*y\n",
    "    return pro\n",
    "\n",
    "i=1\n",
    "n=int(input(\"Enter the number of iterations needed : \"))\n",
    "while(i<=n):\n",
    "    print(\"Main Menu : \")\n",
    "    print(\" 1.ADDITION  2.SUBSTRACTION  3.MULTIPLICATION  4.DIVISION  5.Roots Of Quadratic Equation\")\n",
    "    ch=int(input(\"Enter your choice: \"))\n",
    "    x=int(input(\"Enter the first number: \"))\n",
    "    y=int(input(\"Enter the second number: \"))\n",
    "\n",
    "    if ch==1:\n",
    "        ans=add(x,y)\n",
    "        print(\"Sum= \",ans)\n",
    "        \n",
    "    \n",
    "\n",
    "    elif ch==2:\n",
    "        diff=sub(x,y)\n",
    "        print(x,\"-\",y,\"=\",diff)\n",
    "    \n",
    "\n",
    "    elif ch==3:\n",
    "        pro=mul(x,y)\n",
    "        print(x,\"*\",y,\"=\",pro)\n",
    "\n",
    "\n",
    "    elif ch==4:\n",
    "        rem=div(x,y)\n",
    "        print(x,\"/\",y,\"=\",pro)\n",
    "    \n",
    "    \n",
    "    elif ch==5:\n",
    "        z=int(input(\"Enter the third number: \"))\n",
    "        D=(y*y)-(4*x*z)\n",
    "        if D>0:\n",
    "            print (\"It has two roots\")\n",
    "            r1=-y+(sqrt(D)/(2*x))\n",
    "            r2=-y-(sqrt(D)/(2*x))\n",
    "            print(\"Root1=\",r1,\" \",\"Root2=\",r2)\n",
    "        \n",
    "        elif D==0:\n",
    "            print(\"It has one real root\")\n",
    "            r=-y/(2*x)\n",
    "            print (\"Root= \",r)\n",
    "        \n",
    "        else:\n",
    "            print(\"It has no real roots\")\n",
    "        \n",
    "\n",
    "    \n",
    "    else:\n",
    "        print(\"Wrong chocie\")\n",
    "\n",
    "    i=i+1\n",
    "\n",
    "print(\"exit\")\n",
    "\n"
   ]
  },
  {
   "cell_type": "code",
   "execution_count": null,
   "metadata": {},
   "outputs": [],
   "source": []
  }
 ],
 "metadata": {
  "kernelspec": {
   "display_name": "Python 3",
   "language": "python",
   "name": "python3"
  },
  "language_info": {
   "codemirror_mode": {
    "name": "ipython",
    "version": 3
   },
   "file_extension": ".py",
   "mimetype": "text/x-python",
   "name": "python",
   "nbconvert_exporter": "python",
   "pygments_lexer": "ipython3",
   "version": "3.7.1"
  }
 },
 "nbformat": 4,
 "nbformat_minor": 2
}
