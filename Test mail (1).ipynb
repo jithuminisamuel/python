{
 "cells": [
  {
   "cell_type": "code",
   "execution_count": 2,
   "metadata": {},
   "outputs": [
    {
     "name": "stdout",
     "output_type": "stream",
     "text": [
      "Subject: official\n",
      "\n",
      "Hy\tAkash1\n",
      "\n",
      "\t\t\t This is a test message\n",
      "\n",
      " Thank You\n",
      "Subject: official\n",
      "\n",
      "Hy\tAkash2\n",
      "\n",
      "\t\t\t This is a test message\n",
      "\n",
      " Thank You\n",
      "Subject: official\n",
      "\n",
      "Hy\tAkash3\n",
      "\n",
      "\t\t\t This is a test message\n",
      "\n",
      " Thank You\n",
      "Email has send successfully\n"
     ]
    },
    {
     "data": {
      "text/plain": [
       "(221, b'2.0.0 closing connection w2sm8352382pfb.104 - gsmtp')"
      ]
     },
     "execution_count": 2,
     "metadata": {},
     "output_type": "execute_result"
    }
   ],
   "source": [
    "import pandas as pd\n",
    "import smtplib\n",
    "e=pd.read_csv(\"contacts.csv\")\n",
    "emails = e['email'].values\n",
    "names=e['name'].values\n",
    "server=smtplib.SMTP(\"smtp.gmail.com\",587)\n",
    "server.starttls()\n",
    "server.login(\"jithuz1234@gmail.com\",\"captainnavy@22\")\n",
    "for i in range(len(emails)): \n",
    "\n",
    "    name = names[i] \n",
    "    email = emails[i]\n",
    "    msg=\"Hy\"+\"\\t\"+name+\"\\n\\n\\t\\t\\t This is a test message\\n\\n Thank You\"\n",
    "    subject=\"official\"\n",
    "    body = \"Subject: {}\\n\\n{}\".format(subject,msg)\n",
    "    print(body)\n",
    "    server.sendmail(\"jithuz1234@gmail.com\",email,body) \n",
    "print(\"Email has send successfully\") \n",
    "  \n",
    "\n",
    "server.quit()\n"
   ]
  },
  {
   "cell_type": "code",
   "execution_count": null,
   "metadata": {},
   "outputs": [],
   "source": []
  }
 ],
 "metadata": {
  "kernelspec": {
   "display_name": "Python 3",
   "language": "python",
   "name": "python3"
  },
  "language_info": {
   "codemirror_mode": {
    "name": "ipython",
    "version": 3
   },
   "file_extension": ".py",
   "mimetype": "text/x-python",
   "name": "python",
   "nbconvert_exporter": "python",
   "pygments_lexer": "ipython3",
   "version": "3.7.1"
  }
 },
 "nbformat": 4,
 "nbformat_minor": 2
}
