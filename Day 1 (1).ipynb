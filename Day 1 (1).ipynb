{
 "cells": [
  {
   "cell_type": "code",
   "execution_count": 1,
   "metadata": {},
   "outputs": [
    {
     "name": "stdout",
     "output_type": "stream",
     "text": [
      "The value of x after swapping 10\n",
      "The value of y after swapping 5\n"
     ]
    }
   ],
   "source": [
    "x=5\n",
    "y=10\n",
    "\n",
    "temp = x\n",
    "x= y\n",
    "y=temp\n",
    "\n",
    "print(\"The value of x after swapping\",x)\n",
    "print(\"The value of y after swapping\",y)"
   ]
  },
  {
   "cell_type": "code",
   "execution_count": 2,
   "metadata": {},
   "outputs": [
    {
     "name": "stdout",
     "output_type": "stream",
     "text": [
      "The largest number is 14\n"
     ]
    }
   ],
   "source": [
    "num1 =10\n",
    "num2=14\n",
    "num3=12\n",
    "\n",
    "if(num1 > num2) and (num1 >= num3):\n",
    "    largest=num1\n",
    "elif(num2 >= num1) and (num2 >= num3):\n",
    "    largest=num2\n",
    "else:\n",
    "    largest=num3\n",
    "\n",
    "print(\"The largest number is\",largest)"
   ]
  },
  {
   "cell_type": "code",
   "execution_count": 3,
   "metadata": {},
   "outputs": [],
   "source": [
    "def greet(x):\n",
    "    print(\"goodmorning\",x)"
   ]
  },
  {
   "cell_type": "code",
   "execution_count": 5,
   "metadata": {},
   "outputs": [
    {
     "name": "stdout",
     "output_type": "stream",
     "text": [
      "goodmorning jua\n"
     ]
    }
   ],
   "source": [
    "greet('jua')"
   ]
  },
  {
   "cell_type": "code",
   "execution_count": 6,
   "metadata": {},
   "outputs": [
    {
     "name": "stdout",
     "output_type": "stream",
     "text": [
      "The principal is 8\n",
      "Thetime period is 6\n",
      "The rate of interest is 8\n",
      "The Simple Interest is 3.84\n"
     ]
    },
    {
     "data": {
      "text/plain": [
       "3.84"
      ]
     },
     "execution_count": 6,
     "metadata": {},
     "output_type": "execute_result"
    }
   ],
   "source": [
    "def simple_interest(p,t,r):\n",
    "    print(\"The principal is\",p)\n",
    "    print(\"Thetime period is\",t)\n",
    "    print(\"The rate of interest is\",r)\n",
    "    \n",
    "    s=(p*t*r)/100\n",
    "    \n",
    "    print(\"The Simple Interest is\",s)\n",
    "    return s\n",
    "simple_interest(8,6,8)"
   ]
  },
  {
   "cell_type": "code",
   "execution_count": null,
   "metadata": {},
   "outputs": [],
   "source": []
  }
 ],
 "metadata": {
  "kernelspec": {
   "display_name": "Python 3",
   "language": "python",
   "name": "python3"
  },
  "language_info": {
   "codemirror_mode": {
    "name": "ipython",
    "version": 3
   },
   "file_extension": ".py",
   "mimetype": "text/x-python",
   "name": "python",
   "nbconvert_exporter": "python",
   "pygments_lexer": "ipython3",
   "version": "3.7.1"
  }
 },
 "nbformat": 4,
 "nbformat_minor": 2
}
